{
 "cells": [
  {
   "cell_type": "code",
   "execution_count": 44,
   "metadata": {
    "collapsed": true
   },
   "outputs": [],
   "source": [
    "from scipy import integrate\n",
    "from math import sin,cos,pi"
   ]
  },
  {
   "cell_type": "code",
   "execution_count": 45,
   "metadata": {
    "collapsed": true
   },
   "outputs": [],
   "source": [
    "X = [i**2 for i in range(0,5)]\n",
    "k = len(X)"
   ]
  },
  {
   "cell_type": "code",
   "execution_count": 46,
   "metadata": {
    "collapsed": false
   },
   "outputs": [
    {
     "name": "stdout",
     "output_type": "stream",
     "text": [
      "[-3.885913832391846, -1.8945415112300639, 0.8210736106331084, 1.2707838427568239]\n"
     ]
    }
   ],
   "source": [
    "a = lambda n: (2.0/k)*sum([integrate.quad(lambda x: ((X[j]-X[j-1])*(x-j)+X[j])*cos(((2.0*pi*n)/k)*x),j-1,j)[0] for j in range(1,k)])\n",
    "\n",
    "print [a(i) for i in range(1,5)]"
   ]
  },
  {
   "cell_type": "code",
   "execution_count": 47,
   "metadata": {
    "collapsed": false
   },
   "outputs": [
    {
     "name": "stdout",
     "output_type": "stream",
     "text": [
      "[-3.8859138323918474, -1.8945415112300639, 0.8210736106331077, 1.270783842756824]\n"
     ]
    }
   ],
   "source": [
    "a = lambda n: (2.0/k)*sum([(X[j]-X[j-1])*integrate.quad(lambda x: (x-j)*cos(((2.0*pi*n)/k)*x),j-1,j)[0] + integrate.quad(lambda x: X[j]*cos(((2.0*pi*n)/k)*x),j-1,j)[0] for j in range(1,k)])\n",
    "\n",
    "print [a(i) for i in range(1,5)]"
   ]
  },
  {
   "cell_type": "code",
   "execution_count": 59,
   "metadata": {
    "collapsed": false
   },
   "outputs": [
    {
     "name": "stdout",
     "output_type": "stream",
     "text": [
      "[-3.8859138323918465, -1.8945415112300645, 0.8210736106331084, 1.2707838427568232]\n"
     ]
    }
   ],
   "source": [
    "a = lambda n: (2.0/k)*sum([(X[j]-X[j-1])*(k/(2*pi*n))*(sin((j-1)*2.0*pi*n/k)-integrate.quad(lambda x: sin(((2.0*pi*n)/k)*x),j-1,j)[0]) + (k/(2*pi*n))*X[j]*(sin(2*pi*n*j/k)-sin(2*pi*n*(j-1)/k)) for j in range(1,k)])\n",
    "\n",
    "print [a(i) for i in range(1,5)]"
   ]
  },
  {
   "cell_type": "code",
   "execution_count": 60,
   "metadata": {
    "collapsed": false
   },
   "outputs": [
    {
     "name": "stdout",
     "output_type": "stream",
     "text": [
      "[-3.8859138323918465, -1.8945415112300648, 0.8210736106331084, 1.2707838427568237]\n"
     ]
    }
   ],
   "source": [
    "a = lambda n: (1/(pi*n))*sum([(X[j]-X[j-1])*(sin((j-1)*2.0*pi*n/k)+(k/(2*pi*n))*(cos(2*pi*n*j/k)-cos(2*pi*n*(j-1)/k))) + X[j]*(sin(2*pi*n*j/k)-sin(2*pi*n*(j-1)/k)) for j in range(1,k)])\n",
    "\n",
    "print [a(i) for i in range(1,5)]"
   ]
  },
  {
   "cell_type": "code",
   "execution_count": 61,
   "metadata": {
    "collapsed": false
   },
   "outputs": [
    {
     "name": "stdout",
     "output_type": "stream",
     "text": [
      "[-3.741959497623668, 1.7251474358219039, 1.5223176498590822, -0.2579433529402539]\n"
     ]
    }
   ],
   "source": [
    "b = lambda n: (2.0/k)*sum([integrate.quad(lambda x: ((X[j]-X[j-1])*(x-j)+X[j])*sin(((2.0*pi*n)/k)*x),j-1,j)[0] for j in range(1,k)])\n",
    "\n",
    "print [b(i) for i in range(1,5)]"
   ]
  },
  {
   "cell_type": "code",
   "execution_count": 65,
   "metadata": {
    "collapsed": false
   },
   "outputs": [
    {
     "name": "stdout",
     "output_type": "stream",
     "text": [
      "[-3.741959497623669, 1.7251474358219043, 1.5223176498590818, -0.25794335294025467]\n"
     ]
    }
   ],
   "source": [
    "b = lambda n: (2.0/k)*sum([(X[j]-X[j-1])*(k/(2*pi*n))*(-cos((j-1)*2.0*pi*n/k)+integrate.quad(lambda x: cos(((2.0*pi*n)/k)*x),j-1,j)[0]) - (k/(2*pi*n))*X[j]*(cos(2*pi*n*j/k)-cos(2*pi*n*(j-1)/k)) for j in range(1,k)])\n",
    "\n",
    "print [b(i) for i in range(1,5)]"
   ]
  },
  {
   "cell_type": "code",
   "execution_count": 67,
   "metadata": {
    "collapsed": false
   },
   "outputs": [
    {
     "name": "stdout",
     "output_type": "stream",
     "text": [
      "[-3.7419594976236694, 1.7251474358219039, 1.522317649859082, -0.2579433529402547]\n"
     ]
    }
   ],
   "source": [
    "b = lambda n: (1/(pi*n))*sum([(X[j]-X[j-1])*(-cos((j-1)*2.0*pi*n/k)+(k/(2*pi*n))*(sin(2*pi*n*j/k)-sin(2*pi*n*(j-1)/k))) - X[j]*(cos(2*pi*n*j/k)-cos(2*pi*n*(j-1)/k)) for j in range(1,k)])\n",
    "\n",
    "print [b(i) for i in range(1,5)]"
   ]
  },
  {
   "cell_type": "code",
   "execution_count": 68,
   "metadata": {
    "collapsed": false
   },
   "outputs": [
    {
     "name": "stdout",
     "output_type": "stream",
     "text": [
      "8.8\n"
     ]
    }
   ],
   "source": [
    "a = (2.0/k)*sum([integrate.quad(lambda x: ((X[j]-X[j-1])*(x-j)+X[j])*cos(((2.0*pi*(0))/k)*x),j-1,j)[0] for j in range(1,k)])\n",
    "\n",
    "print a"
   ]
  },
  {
   "cell_type": "code",
   "execution_count": 70,
   "metadata": {
    "collapsed": false
   },
   "outputs": [
    {
     "name": "stdout",
     "output_type": "stream",
     "text": [
      "8.8\n"
     ]
    }
   ],
   "source": [
    "a = (2.0/k)*sum([(X[j]-X[j-1])*(0.5*j**2 - 0.5*(j-1)**2 - j)+X[j] for j in range(1,k)])\n",
    "\n",
    "print a"
   ]
  },
  {
   "cell_type": "code",
   "execution_count": 72,
   "metadata": {
    "collapsed": false
   },
   "outputs": [
    {
     "name": "stdout",
     "output_type": "stream",
     "text": [
      "8.8\n"
     ]
    }
   ],
   "source": [
    "a = (1.0/k)*sum([X[j]+X[j-1] for j in range(1,k)])\n",
    "\n",
    "print a"
   ]
  },
  {
   "cell_type": "code",
   "execution_count": null,
   "metadata": {
    "collapsed": true
   },
   "outputs": [],
   "source": []
  }
 ],
 "metadata": {
  "kernelspec": {
   "display_name": "Python 2",
   "language": "python",
   "name": "python2"
  },
  "language_info": {
   "codemirror_mode": {
    "name": "ipython",
    "version": 2
   },
   "file_extension": ".py",
   "mimetype": "text/x-python",
   "name": "python",
   "nbconvert_exporter": "python",
   "pygments_lexer": "ipython2",
   "version": "2.7.13"
  }
 },
 "nbformat": 4,
 "nbformat_minor": 0
}
