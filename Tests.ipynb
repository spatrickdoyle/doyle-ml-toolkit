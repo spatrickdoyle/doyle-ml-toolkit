{
 "cells": [
  {
   "cell_type": "code",
   "execution_count": 13,
   "metadata": {
    "collapsed": false
   },
   "outputs": [
    {
     "name": "stdout",
     "output_type": "stream",
     "text": [
      "Populating the interactive namespace from numpy and matplotlib\n"
     ]
    },
    {
     "name": "stderr",
     "output_type": "stream",
     "text": [
      "WARNING: pylab import has clobbered these variables: ['e']\n",
      "`%matplotlib` prevents importing * from pylab and numpy\n"
     ]
    }
   ],
   "source": [
    "#IPython notebook plot formatting\n",
    "%matplotlib inline\n",
    "%pylab inline\n",
    "pylab.rcParams['figure.figsize'] = (15, 10)\n",
    "\n",
    "import matplotlib.pyplot as plt\n",
    "\n",
    "#Load the modules\n",
    "import Extractors as e\n",
    "import Classifiers as c\n",
    "import DoyleMLToolkit as dmlt\n",
    "\n",
    "#Make sure they get reloaded after changes\n",
    "e = reload(e)\n",
    "c = reload(c)\n",
    "dmlt = reload(dmlt)"
   ]
  },
  {
   "cell_type": "code",
   "execution_count": 14,
   "metadata": {
    "collapsed": false
   },
   "outputs": [],
   "source": [
    "#Instantiate models being used for testing\n",
    "\n",
    "testModel1 = dmlt.Model(e.ComplexFourier,c.GaussianClassification,10,0)\n",
    "testModel2 = dmlt.Model(e.ComplexFourier,c.GaussianClassification,10,0)\n",
    "testModel3 = dmlt.Model(e.ComplexFourier,c.GaussianClassification,10,0)\n",
    "testModel4 = dmlt.Model(e.ComplexFourier,c.GaussianClassification,10,0)"
   ]
  },
  {
   "cell_type": "code",
   "execution_count": 15,
   "metadata": {
    "collapsed": false
   },
   "outputs": [],
   "source": [
    "#Load function tests\n",
    "\n",
    "token1 = testModel1.load([], [[ [1,2,3],[4,5,6],[7,8,9] ],[ [10,11,12],[13,14,15],[16,17,18] ]] )\n",
    "token2 = testModel2.load(['1','2','3'], [[ [1,2,3],[4,5,6],[7,8,9] ],[ [10,11,12],[13,14,15],[16,17,18] ]] )\n",
    "\n",
    "token3 = testModel3.load(\"\",\"14JulySound/flugel/E3.csv\")\n",
    "token4 = testModel4.load(\"14JulySound/flugel/FlugelClass.csv\",\"14JulySound/flugel/E3.csv\")"
   ]
  },
  {
   "cell_type": "code",
   "execution_count": 18,
   "metadata": {
    "collapsed": false
   },
   "outputs": [
    {
     "name": "stdout",
     "output_type": "stream",
     "text": [
      "2 3 3\n",
      "2 3 11\n",
      "\n",
      "2 3 3\n",
      "2 3 11\n",
      "\n",
      "1 20 263\n",
      "1 20 11\n",
      "\n",
      "1 20 263\n",
      "1 20 11\n",
      "\n"
     ]
    }
   ],
   "source": [
    "#Test each token\n",
    "\n",
    "for token in [token1,token2,token3,token4]:\n",
    "    print token.dimension,token.size,token.length\n",
    "    print len(token.features),len(token.features[0]),len(token.features[0][0])\n",
    "    print ''"
   ]
  },
  {
   "cell_type": "code",
   "execution_count": null,
   "metadata": {
    "collapsed": true
   },
   "outputs": [],
   "source": []
  }
 ],
 "metadata": {
  "kernelspec": {
   "display_name": "Python 2",
   "language": "python",
   "name": "python2"
  },
  "language_info": {
   "codemirror_mode": {
    "name": "ipython",
    "version": 2
   },
   "file_extension": ".py",
   "mimetype": "text/x-python",
   "name": "python",
   "nbconvert_exporter": "python",
   "pygments_lexer": "ipython2",
   "version": "2.7.13"
  }
 },
 "nbformat": 4,
 "nbformat_minor": 0
}
