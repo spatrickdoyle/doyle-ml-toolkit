{
 "cells": [
  {
   "cell_type": "code",
   "execution_count": 1,
   "metadata": {},
   "outputs": [
    {
     "name": "stdout",
     "output_type": "stream",
     "text": [
      "Populating the interactive namespace from numpy and matplotlib\n"
     ]
    }
   ],
   "source": [
    "#IPython notebook plot formatting\n",
    "%matplotlib inline\n",
    "%pylab inline\n",
    "pylab.rcParams['figure.figsize'] = (15, 10)\n",
    "\n",
    "import matplotlib.pyplot as plt\n",
    "\n",
    "#Load the modules\n",
    "import Extractors as e\n",
    "import Classifiers as c\n",
    "import DoyleMLToolkit as dmlt\n",
    "\n",
    "#Make sure they get reloaded after changes\n",
    "e = reload(e)\n",
    "c = reload(c)\n",
    "dmlt = reload(dmlt)\n",
    "\n",
    "import warnings\n",
    "warnings.filterwarnings('ignore')"
   ]
  },
  {
   "cell_type": "code",
   "execution_count": null,
   "metadata": {
    "collapsed": true
   },
   "outputs": [],
   "source": [
    "#Define high order models to generate accurate variances\n",
    "\n",
    "order = 12\n",
    "zeroth = 0\n",
    "CancerModels = [\n",
    "    dmlt.Model(e.ComplexFourier,c.NaiveBayesReal,order,zeroth),\n",
    "    dmlt.Model(e.Bernstein,c.NaiveBayesReal,order,zeroth)\n",
    "]\n",
    "\n",
    "\n",
    "#Load relevant data\n",
    "\n",
    "NormalLow = [model.load(\"18OctoberSim/simNormalLow.csv\",\"kidney_final/KidneyData.csv\") for model in CancerModels]\n",
    "\n"
   ]
  }
 ],
 "metadata": {
  "kernelspec": {
   "display_name": "Python 2",
   "language": "python2",
   "name": "python2"
  },
  "language_info": {
   "codemirror_mode": {
    "name": "ipython",
    "version": 2
   },
   "file_extension": ".py",
   "mimetype": "text/x-python",
   "name": "python",
   "nbconvert_exporter": "python",
   "pygments_lexer": "ipython2",
   "version": "2.7.14"
  }
 },
 "nbformat": 4,
 "nbformat_minor": 2
}
