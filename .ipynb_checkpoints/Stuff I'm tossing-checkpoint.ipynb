{
 "cells": [
  {
   "cell_type": "code",
   "execution_count": 1,
   "metadata": {
    "collapsed": true
   },
   "outputs": [],
   "source": [
    "# Perform feature extraction on real and simulated data\n",
    "\n",
    "## Use a constant moderate level of noise in simulated data\n",
    "## This time have sets where each Cole-Cole parameter is varied to build model\n",
    "## Predict Cole-Cole parameters of base simulated data and real data"
   ]
  },
  {
   "cell_type": "code",
   "execution_count": 2,
   "metadata": {},
   "outputs": [
    {
     "ename": "NameError",
     "evalue": "name 'dmlt' is not defined",
     "output_type": "error",
     "traceback": [
      "\u001b[0;31m\u001b[0m",
      "\u001b[0;31mNameError\u001b[0mTraceback (most recent call last)",
      "\u001b[0;32m<ipython-input-2-cd1844ddd247>\u001b[0m in \u001b[0;36m<module>\u001b[0;34m()\u001b[0m\n\u001b[1;32m     11\u001b[0m \u001b[0;34m\u001b[0m\u001b[0m\n\u001b[1;32m     12\u001b[0m Models = [\n\u001b[0;32m---> 13\u001b[0;31m     \u001b[0mdmlt\u001b[0m\u001b[0;34m.\u001b[0m\u001b[0mModel\u001b[0m\u001b[0;34m(\u001b[0m\u001b[0me\u001b[0m\u001b[0;34m.\u001b[0m\u001b[0mComplexFourier\u001b[0m\u001b[0;34m,\u001b[0m\u001b[0mc\u001b[0m\u001b[0;34m.\u001b[0m\u001b[0mNaiveBayesReal\u001b[0m\u001b[0;34m,\u001b[0m\u001b[0morder\u001b[0m\u001b[0;34m,\u001b[0m\u001b[0mzeroth\u001b[0m\u001b[0;34m)\u001b[0m\u001b[0;34m,\u001b[0m\u001b[0;34m\u001b[0m\u001b[0m\n\u001b[0m\u001b[1;32m     14\u001b[0m     \u001b[0mdmlt\u001b[0m\u001b[0;34m.\u001b[0m\u001b[0mModel\u001b[0m\u001b[0;34m(\u001b[0m\u001b[0me\u001b[0m\u001b[0;34m.\u001b[0m\u001b[0mBernstein\u001b[0m\u001b[0;34m,\u001b[0m\u001b[0mc\u001b[0m\u001b[0;34m.\u001b[0m\u001b[0mNaiveBayesReal\u001b[0m\u001b[0;34m,\u001b[0m\u001b[0morder\u001b[0m\u001b[0;34m,\u001b[0m\u001b[0mzeroth\u001b[0m\u001b[0;34m)\u001b[0m\u001b[0;34m,\u001b[0m\u001b[0;34m\u001b[0m\u001b[0m\n\u001b[1;32m     15\u001b[0m     \u001b[0mdmlt\u001b[0m\u001b[0;34m.\u001b[0m\u001b[0mModel\u001b[0m\u001b[0;34m(\u001b[0m\u001b[0me\u001b[0m\u001b[0;34m.\u001b[0m\u001b[0mPCA\u001b[0m\u001b[0;34m,\u001b[0m\u001b[0mc\u001b[0m\u001b[0;34m.\u001b[0m\u001b[0mNaiveBayesReal\u001b[0m\u001b[0;34m,\u001b[0m\u001b[0morder\u001b[0m\u001b[0;34m,\u001b[0m\u001b[0mzeroth\u001b[0m\u001b[0;34m)\u001b[0m\u001b[0;34m\u001b[0m\u001b[0m\n",
      "\u001b[0;31mNameError\u001b[0m: name 'dmlt' is not defined"
     ]
    }
   ],
   "source": [
    "#Load real data and varied simulated data\n",
    "cancer = [\"kidney_final/KidneyClass.csv\",\"kidney_final/KidneyData.csv\"]\n",
    "sim = [\"18OctoberSim/simClasses.csv\",\"18OctoberSim/simHighData.csv\",\"16DecemberSim/simTau.csv\"]\n",
    "#Each of these next files should be clustered by class and labeled with the corresponding parameter value\n",
    "K = []\n",
    "el = []\n",
    "T = [[\"16DecemberSim/simTauClass%s.csv\"%i,\"16DecemberSim/simTau%s.csv\"%i] for i in [\"Normal\",\"Benign\",\"Malignant\"]]\n",
    "a = []\n",
    "kdc = []\n",
    "parameters = [T]\n",
    "\n",
    "Models = [\n",
    "    dmlt.Model(e.ComplexFourier,c.NaiveBayesReal,order,zeroth),\n",
    "    dmlt.Model(e.Bernstein,c.NaiveBayesReal,order,zeroth),\n",
    "    dmlt.Model(e.PCA,c.NaiveBayesReal,order,zeroth)\n",
    "]"
   ]
  },
  {
   "cell_type": "code",
   "execution_count": 3,
   "metadata": {},
   "outputs": [
    {
     "ename": "NameError",
     "evalue": "name 'Models' is not defined",
     "output_type": "error",
     "traceback": [
      "\u001b[0;31m\u001b[0m",
      "\u001b[0;31mNameError\u001b[0mTraceback (most recent call last)",
      "\u001b[0;32m<ipython-input-3-2fd07546dda6>\u001b[0m in \u001b[0;36m<module>\u001b[0;34m()\u001b[0m\n\u001b[1;32m      1\u001b[0m \u001b[0mSimData\u001b[0m \u001b[0;34m=\u001b[0m \u001b[0;34m[\u001b[0m\u001b[0;34m]\u001b[0m\u001b[0;34m\u001b[0m\u001b[0m\n\u001b[0;32m----> 2\u001b[0;31m \u001b[0;32mfor\u001b[0m \u001b[0mmodel\u001b[0m \u001b[0;32min\u001b[0m \u001b[0mModels\u001b[0m\u001b[0;34m:\u001b[0m\u001b[0;34m\u001b[0m\u001b[0m\n\u001b[0m\u001b[1;32m      3\u001b[0m     \u001b[0;31m#Generate a model for each parameter\u001b[0m\u001b[0;34m\u001b[0m\u001b[0;34m\u001b[0m\u001b[0m\n\u001b[1;32m      4\u001b[0m     \u001b[0mSimData\u001b[0m\u001b[0;34m.\u001b[0m\u001b[0mappend\u001b[0m\u001b[0;34m(\u001b[0m\u001b[0;34m[\u001b[0m\u001b[0;34m]\u001b[0m\u001b[0;34m)\u001b[0m\u001b[0;34m\u001b[0m\u001b[0m\n\u001b[1;32m      5\u001b[0m     \u001b[0;32mfor\u001b[0m \u001b[0mp\u001b[0m \u001b[0;32min\u001b[0m \u001b[0mparameters\u001b[0m\u001b[0;34m:\u001b[0m\u001b[0;34m\u001b[0m\u001b[0m\n",
      "\u001b[0;31mNameError\u001b[0m: name 'Models' is not defined"
     ]
    }
   ],
   "source": [
    "SimData = []\n",
    "for model in Models:\n",
    "    #Generate a model for each parameter\n",
    "    SimData.append([])\n",
    "    for p in parameters:\n",
    "        #Load data for each classification\n",
    "        SimData[-1].append(model.load(p[0][0],p[0][1]))\n",
    "        for i in p[1:]:\n",
    "            SimData[-1][-1] += model.load(i[0],i[1])"
   ]
  },
  {
   "cell_type": "code",
   "execution_count": 4,
   "metadata": {
    "collapsed": true
   },
   "outputs": [],
   "source": [
    "#Generate variances\n",
    "#The way these are arranged now is [model][parameter][order]\n",
    "varReal = []\n",
    "varImag = []\n",
    "zeroth = 0\n",
    "for model in SimData:\n",
    "    varReal.append([])\n",
    "    varImag.append([])\n",
    "    for p in model:\n",
    "        varReal[-1].append(p.getVariances(0,0,zeroth))\n",
    "        varImag[-1].append(p.getVariances(1,0,zeroth))\n",
    "\n",
    "#Replace each array with a set of tuples (index,value) of the n highest variances\n",
    "n = 2\n",
    "for model in range(len(varReal)):\n",
    "    for p in range(len(varReal[model])):\n",
    "        tmp1 = []\n",
    "        tmp2 = []\n",
    "        for i in range(n):\n",
    "            tmp1.append(varReal[model][p].index(max(varReal[model][p])))\n",
    "            varReal[model][p][tmp1[-1]] = -1\n",
    "\n",
    "            tmp2.append(varImag[model][p].index(max(varImag[model][p])))\n",
    "            varImag[model][p][tmp2[-1]] = -1\n",
    "        varReal[model][p] = tmp1\n",
    "        varImag[model][p] = tmp2"
   ]
  },
  {
   "cell_type": "code",
   "execution_count": 5,
   "metadata": {},
   "outputs": [
    {
     "ename": "NameError",
     "evalue": "name 'pylab' is not defined",
     "output_type": "error",
     "traceback": [
      "\u001b[0;31m\u001b[0m",
      "\u001b[0;31mNameError\u001b[0mTraceback (most recent call last)",
      "\u001b[0;32m<ipython-input-5-650f05813961>\u001b[0m in \u001b[0;36m<module>\u001b[0;34m()\u001b[0m\n\u001b[1;32m      1\u001b[0m \u001b[0;31m#Component plots\u001b[0m\u001b[0;34m\u001b[0m\u001b[0;34m\u001b[0m\u001b[0m\n\u001b[0;32m----> 2\u001b[0;31m \u001b[0mpylab\u001b[0m\u001b[0;34m.\u001b[0m\u001b[0mrcParams\u001b[0m\u001b[0;34m[\u001b[0m\u001b[0;34m'figure.figsize'\u001b[0m\u001b[0;34m]\u001b[0m \u001b[0;34m=\u001b[0m \u001b[0;34m(\u001b[0m\u001b[0;36m15\u001b[0m\u001b[0;34m,\u001b[0m \u001b[0;36m5\u001b[0m\u001b[0;34m)\u001b[0m\u001b[0;34m\u001b[0m\u001b[0m\n\u001b[0m\u001b[1;32m      3\u001b[0m \u001b[0;34m\u001b[0m\u001b[0m\n\u001b[1;32m      4\u001b[0m \u001b[0mpar\u001b[0m \u001b[0;34m=\u001b[0m \u001b[0;36m0\u001b[0m\u001b[0;34m\u001b[0m\u001b[0m\n\u001b[1;32m      5\u001b[0m \u001b[0;32mfor\u001b[0m \u001b[0mmodel\u001b[0m \u001b[0;32min\u001b[0m \u001b[0mrange\u001b[0m\u001b[0;34m(\u001b[0m\u001b[0mlen\u001b[0m\u001b[0;34m(\u001b[0m\u001b[0mSimData\u001b[0m\u001b[0;34m)\u001b[0m\u001b[0;34m)\u001b[0m\u001b[0;34m:\u001b[0m\u001b[0;34m\u001b[0m\u001b[0m\n",
      "\u001b[0;31mNameError\u001b[0m: name 'pylab' is not defined"
     ]
    }
   ],
   "source": [
    "#Component plots\n",
    "pylab.rcParams['figure.figsize'] = (15, 5)\n",
    "\n",
    "par = 0\n",
    "for model in range(len(SimData)):\n",
    "    #Real\n",
    "    imaginary = 0\n",
    "    classes = sorted(list(set(SimData[model][par].getAllY())))\n",
    "    colors = ['red','orange','yellow','green','blue']\n",
    "\n",
    "    x = 0\n",
    "    y = 0\n",
    "    plt.subplot(121)\n",
    "    for row in range(len(SimData[model][par].getAllFeatures()[0])):\n",
    "        x = SimData[model][par].getFeaturesBySweep(row,0,imaginary)[varReal[model][par][0]]\n",
    "        y = SimData[model][par].getFeaturesBySweep(row,0,imaginary)[varReal[model][par][1]]\n",
    "        plt.plot([x],[y],color='#000000',marker='o',linewidth=0)\n",
    "        #plt.annotate(str(row),(x+(1e-12),y+(3e-6)))\n",
    "\n",
    "    plt.title(Models[model].C.name+\" capacitance\")\n",
    "    plt.xlabel(\"%dth feature\"%varReal[model][par][0])\n",
    "    plt.ylabel(\"%dth feature\"%varReal[model][par][1])\n",
    "\n",
    "    #Imaginary\n",
    "    imaginary = 1\n",
    "    classes = sorted(list(set(SimData[model][par].getAllY())))\n",
    "    colors = ['red','orange','yellow','green','blue']\n",
    "\n",
    "    x = 0\n",
    "    y = 0\n",
    "    plt.subplot(122)\n",
    "    for row in range(len(SimData[model][par].getAllFeatures()[0])):\n",
    "        x = SimData[model][par].getFeaturesBySweep(row,0,imaginary)[varImag[model][par][0]]\n",
    "        y = SimData[model][par].getFeaturesBySweep(row,0,imaginary)[varImag[model][par][1]]\n",
    "        plt.plot([x],[y],color='#000000',marker='o',linewidth=0)\n",
    "        #plt.annotate(str(row),(x+(1e-12),y+(3e-6)))\n",
    "\n",
    "    plt.title(Models[model].C.name+\" conductance\")\n",
    "    plt.xlabel(\"%dth feature\"%varImag[model][par][0])\n",
    "    plt.ylabel(\"%dth feature\"%varImag[model][par][1])\n",
    "    plt.show()"
   ]
  },
  {
   "cell_type": "code",
   "execution_count": 6,
   "metadata": {},
   "outputs": [
    {
     "ename": "NameError",
     "evalue": "name 'Models' is not defined",
     "output_type": "error",
     "traceback": [
      "\u001b[0;31m\u001b[0m",
      "\u001b[0;31mNameError\u001b[0mTraceback (most recent call last)",
      "\u001b[0;32m<ipython-input-6-61f7a80f5f9a>\u001b[0m in \u001b[0;36m<module>\u001b[0;34m()\u001b[0m\n\u001b[1;32m      1\u001b[0m \u001b[0;31m## Solve systems - real part\u001b[0m\u001b[0;34m\u001b[0m\u001b[0;34m\u001b[0m\u001b[0m\n\u001b[1;32m      2\u001b[0m \u001b[0msolutions\u001b[0m \u001b[0;34m=\u001b[0m \u001b[0;34m[\u001b[0m\u001b[0;34m]\u001b[0m\u001b[0;34m\u001b[0m\u001b[0m\n\u001b[0;32m----> 3\u001b[0;31m \u001b[0;32mfor\u001b[0m \u001b[0mmodel\u001b[0m \u001b[0;32min\u001b[0m \u001b[0mrange\u001b[0m\u001b[0;34m(\u001b[0m\u001b[0mlen\u001b[0m\u001b[0;34m(\u001b[0m\u001b[0mModels\u001b[0m\u001b[0;34m)\u001b[0m\u001b[0;34m)\u001b[0m\u001b[0;34m:\u001b[0m\u001b[0;34m\u001b[0m\u001b[0m\n\u001b[0m\u001b[1;32m      4\u001b[0m     \u001b[0msolutions\u001b[0m\u001b[0;34m.\u001b[0m\u001b[0mappend\u001b[0m\u001b[0;34m(\u001b[0m\u001b[0;34m[\u001b[0m\u001b[0;34m]\u001b[0m\u001b[0;34m)\u001b[0m\u001b[0;34m\u001b[0m\u001b[0m\n\u001b[1;32m      5\u001b[0m     \u001b[0;32mfor\u001b[0m \u001b[0mp\u001b[0m \u001b[0;32min\u001b[0m \u001b[0mrange\u001b[0m\u001b[0;34m(\u001b[0m\u001b[0mlen\u001b[0m\u001b[0;34m(\u001b[0m\u001b[0mparameters\u001b[0m\u001b[0;34m)\u001b[0m\u001b[0;34m)\u001b[0m\u001b[0;34m:\u001b[0m\u001b[0;34m\u001b[0m\u001b[0m\n",
      "\u001b[0;31mNameError\u001b[0m: name 'Models' is not defined"
     ]
    }
   ],
   "source": [
    "## Solve systems - real part\n",
    "solutions = []\n",
    "for model in range(len(Models)):\n",
    "    solutions.append([])\n",
    "    for p in range(len(parameters)):\n",
    "        A = np.matrix([[1]+[SimData[model][p].getFeaturesBySweep(i,0,0)[j] for j in varReal[model][p]] for i in range(SimData[model][p].size)])\n",
    "        y = np.array([float(i) for i in SimData[model][p].getAllY()])\n",
    "        solutions[-1].append(np.linalg.lstsq(A,y)[0])"
   ]
  },
  {
   "cell_type": "code",
   "execution_count": 7,
   "metadata": {},
   "outputs": [
    {
     "ename": "NameError",
     "evalue": "name 'Models' is not defined",
     "output_type": "error",
     "traceback": [
      "\u001b[0;31m\u001b[0m",
      "\u001b[0;31mNameError\u001b[0mTraceback (most recent call last)",
      "\u001b[0;32m<ipython-input-7-45d964282ca9>\u001b[0m in \u001b[0;36m<module>\u001b[0;34m()\u001b[0m\n\u001b[1;32m      1\u001b[0m \u001b[0;31m#Estimate parameters of baseline simulated data - real part\u001b[0m\u001b[0;34m\u001b[0m\u001b[0;34m\u001b[0m\u001b[0m\n\u001b[0;32m----> 2\u001b[0;31m \u001b[0;32mfor\u001b[0m \u001b[0mmodel\u001b[0m \u001b[0;32min\u001b[0m \u001b[0mrange\u001b[0m\u001b[0;34m(\u001b[0m\u001b[0mlen\u001b[0m\u001b[0;34m(\u001b[0m\u001b[0mModels\u001b[0m\u001b[0;34m)\u001b[0m\u001b[0;34m)\u001b[0m\u001b[0;34m:\u001b[0m\u001b[0;34m\u001b[0m\u001b[0m\n\u001b[0m\u001b[1;32m      3\u001b[0m     \u001b[0;31m#For each parameter\u001b[0m\u001b[0;34m\u001b[0m\u001b[0;34m\u001b[0m\u001b[0m\n\u001b[1;32m      4\u001b[0m     \u001b[0;32mfor\u001b[0m \u001b[0mp\u001b[0m \u001b[0;32min\u001b[0m \u001b[0mrange\u001b[0m\u001b[0;34m(\u001b[0m\u001b[0mlen\u001b[0m\u001b[0;34m(\u001b[0m\u001b[0msolutions\u001b[0m\u001b[0;34m[\u001b[0m\u001b[0mmodel\u001b[0m\u001b[0;34m]\u001b[0m\u001b[0;34m)\u001b[0m\u001b[0;34m)\u001b[0m\u001b[0;34m:\u001b[0m\u001b[0;34m\u001b[0m\u001b[0m\n\u001b[1;32m      5\u001b[0m         \u001b[0;31m#Load data\u001b[0m\u001b[0;34m\u001b[0m\u001b[0;34m\u001b[0m\u001b[0m\n",
      "\u001b[0;31mNameError\u001b[0m: name 'Models' is not defined"
     ]
    }
   ],
   "source": [
    "#Estimate parameters of baseline simulated data - real part\n",
    "for model in range(len(Models)):\n",
    "    #For each parameter\n",
    "    for p in range(len(solutions[model])):\n",
    "        #Load data\n",
    "        data = Models[model].load(sim[2+p],sim[1])\n",
    "        data2 = Models[model].load(sim[0],sim[1])\n",
    "        A = np.matrix([[1]+[data.getFeaturesBySweep(i,0,0)[j] for j in varReal[model][p]] for i in range(data.size)])\n",
    "        estimate = np.array(np.dot(A,solutions[model][p]).tolist()[0])\n",
    "        avgs = {}\n",
    "        for i in list(set(data2.getAllY())):\n",
    "            avgs[i] = [0.0,0.0] #Average value, average relative error\n",
    "        for i in range(data.size):\n",
    "            actual = float(data.getAllY()[i])\n",
    "            avgs[data2.getAllY()[i]][0] += estimate[i]\n",
    "            avgs[data2.getAllY()[i]][1] += abs((actual-estimate[i])/actual)\n",
    "        for i in avgs:\n",
    "            avgs[i][0] /= 10.0\n",
    "            avgs[i][1] /= 10.0\n",
    "        print avgs"
   ]
  },
  {
   "cell_type": "code",
   "execution_count": 8,
   "metadata": {},
   "outputs": [
    {
     "ename": "NameError",
     "evalue": "name 'Models' is not defined",
     "output_type": "error",
     "traceback": [
      "\u001b[0;31m\u001b[0m",
      "\u001b[0;31mNameError\u001b[0mTraceback (most recent call last)",
      "\u001b[0;32m<ipython-input-8-6fc37b27df78>\u001b[0m in \u001b[0;36m<module>\u001b[0;34m()\u001b[0m\n\u001b[1;32m      1\u001b[0m \u001b[0;31m#Estimate parameters of experimental cancer data - real part\u001b[0m\u001b[0;34m\u001b[0m\u001b[0;34m\u001b[0m\u001b[0m\n\u001b[0;32m----> 2\u001b[0;31m \u001b[0;32mfor\u001b[0m \u001b[0mmodel\u001b[0m \u001b[0;32min\u001b[0m \u001b[0mrange\u001b[0m\u001b[0;34m(\u001b[0m\u001b[0mlen\u001b[0m\u001b[0;34m(\u001b[0m\u001b[0mModels\u001b[0m\u001b[0;34m)\u001b[0m\u001b[0;34m)\u001b[0m\u001b[0;34m:\u001b[0m\u001b[0;34m\u001b[0m\u001b[0m\n\u001b[0m\u001b[1;32m      3\u001b[0m     \u001b[0;31m#For each parameter\u001b[0m\u001b[0;34m\u001b[0m\u001b[0;34m\u001b[0m\u001b[0m\n\u001b[1;32m      4\u001b[0m     \u001b[0;32mfor\u001b[0m \u001b[0mp\u001b[0m \u001b[0;32min\u001b[0m \u001b[0mrange\u001b[0m\u001b[0;34m(\u001b[0m\u001b[0mlen\u001b[0m\u001b[0;34m(\u001b[0m\u001b[0msolutions\u001b[0m\u001b[0;34m[\u001b[0m\u001b[0mmodel\u001b[0m\u001b[0;34m]\u001b[0m\u001b[0;34m)\u001b[0m\u001b[0;34m)\u001b[0m\u001b[0;34m:\u001b[0m\u001b[0;34m\u001b[0m\u001b[0m\n\u001b[1;32m      5\u001b[0m         \u001b[0;31m#Load data\u001b[0m\u001b[0;34m\u001b[0m\u001b[0;34m\u001b[0m\u001b[0m\n",
      "\u001b[0;31mNameError\u001b[0m: name 'Models' is not defined"
     ]
    }
   ],
   "source": [
    "#Estimate parameters of experimental cancer data - real part\n",
    "for model in range(len(Models)):\n",
    "    #For each parameter\n",
    "    for p in range(len(solutions[model])):\n",
    "        #Load data\n",
    "        data = Models[model].load(cancer[0],cancer[1])\n",
    "        A = np.matrix([[1]+[data.getFeaturesBySweep(i,0,0)[j] for j in varReal[model][p]] for i in range(data.size)])\n",
    "        estimate = np.array(np.dot(A,solutions[model][p]).tolist()[0])\n",
    "        avgs = {}\n",
    "        for i in list(set(data.getAllY())):\n",
    "            avgs[i] = [0.0,0] #Average value, count\n",
    "        for i in range(data.size):\n",
    "            avgs[data.getAllY()[i]][0] += estimate[i]\n",
    "            avgs[data.getAllY()[i]][1] += 1\n",
    "        for i in avgs:\n",
    "            avgs[i][0] /= avgs[i][1]\n",
    "        print avgs"
   ]
  },
  {
   "cell_type": "code",
   "execution_count": 9,
   "metadata": {},
   "outputs": [
    {
     "ename": "NameError",
     "evalue": "name 'Models' is not defined",
     "output_type": "error",
     "traceback": [
      "\u001b[0;31m\u001b[0m",
      "\u001b[0;31mNameError\u001b[0mTraceback (most recent call last)",
      "\u001b[0;32m<ipython-input-9-38f72badbdae>\u001b[0m in \u001b[0;36m<module>\u001b[0;34m()\u001b[0m\n\u001b[1;32m      1\u001b[0m \u001b[0;31m#Solve systems - imaginary part\u001b[0m\u001b[0;34m\u001b[0m\u001b[0;34m\u001b[0m\u001b[0m\n\u001b[1;32m      2\u001b[0m \u001b[0msolutions\u001b[0m \u001b[0;34m=\u001b[0m \u001b[0;34m[\u001b[0m\u001b[0;34m]\u001b[0m\u001b[0;34m\u001b[0m\u001b[0m\n\u001b[0;32m----> 3\u001b[0;31m \u001b[0;32mfor\u001b[0m \u001b[0mmodel\u001b[0m \u001b[0;32min\u001b[0m \u001b[0mrange\u001b[0m\u001b[0;34m(\u001b[0m\u001b[0mlen\u001b[0m\u001b[0;34m(\u001b[0m\u001b[0mModels\u001b[0m\u001b[0;34m)\u001b[0m\u001b[0;34m)\u001b[0m\u001b[0;34m:\u001b[0m\u001b[0;34m\u001b[0m\u001b[0m\n\u001b[0m\u001b[1;32m      4\u001b[0m     \u001b[0msolutions\u001b[0m\u001b[0;34m.\u001b[0m\u001b[0mappend\u001b[0m\u001b[0;34m(\u001b[0m\u001b[0;34m[\u001b[0m\u001b[0;34m]\u001b[0m\u001b[0;34m)\u001b[0m\u001b[0;34m\u001b[0m\u001b[0m\n\u001b[1;32m      5\u001b[0m     \u001b[0;32mfor\u001b[0m \u001b[0mp\u001b[0m \u001b[0;32min\u001b[0m \u001b[0mrange\u001b[0m\u001b[0;34m(\u001b[0m\u001b[0mlen\u001b[0m\u001b[0;34m(\u001b[0m\u001b[0mparameters\u001b[0m\u001b[0;34m)\u001b[0m\u001b[0;34m)\u001b[0m\u001b[0;34m:\u001b[0m\u001b[0;34m\u001b[0m\u001b[0m\n",
      "\u001b[0;31mNameError\u001b[0m: name 'Models' is not defined"
     ]
    }
   ],
   "source": [
    "#Solve systems - imaginary part\n",
    "solutions = []\n",
    "for model in range(len(Models)):\n",
    "    solutions.append([])\n",
    "    for p in range(len(parameters)):\n",
    "        A = np.matrix([[1]+[SimData[model][p].getFeaturesBySweep(i,0,1)[j] for j in varImag[model][p]] for i in range(SimData[model][p].size)])\n",
    "        y = np.array([float(i) for i in SimData[model][p].getAllY()])\n",
    "        solutions[-1].append(np.linalg.lstsq(A,y)[0])"
   ]
  },
  {
   "cell_type": "code",
   "execution_count": 10,
   "metadata": {},
   "outputs": [
    {
     "ename": "NameError",
     "evalue": "name 'Models' is not defined",
     "output_type": "error",
     "traceback": [
      "\u001b[0;31m\u001b[0m",
      "\u001b[0;31mNameError\u001b[0mTraceback (most recent call last)",
      "\u001b[0;32m<ipython-input-10-8a6d8591fa80>\u001b[0m in \u001b[0;36m<module>\u001b[0;34m()\u001b[0m\n\u001b[1;32m      1\u001b[0m \u001b[0;31m#Estimate parameters of baseline simulated data - imaginary part\u001b[0m\u001b[0;34m\u001b[0m\u001b[0;34m\u001b[0m\u001b[0m\n\u001b[0;32m----> 2\u001b[0;31m \u001b[0;32mfor\u001b[0m \u001b[0mmodel\u001b[0m \u001b[0;32min\u001b[0m \u001b[0mrange\u001b[0m\u001b[0;34m(\u001b[0m\u001b[0mlen\u001b[0m\u001b[0;34m(\u001b[0m\u001b[0mModels\u001b[0m\u001b[0;34m)\u001b[0m\u001b[0;34m)\u001b[0m\u001b[0;34m:\u001b[0m\u001b[0;34m\u001b[0m\u001b[0m\n\u001b[0m\u001b[1;32m      3\u001b[0m     \u001b[0;31m#For each parameter\u001b[0m\u001b[0;34m\u001b[0m\u001b[0;34m\u001b[0m\u001b[0m\n\u001b[1;32m      4\u001b[0m     \u001b[0;32mfor\u001b[0m \u001b[0mp\u001b[0m \u001b[0;32min\u001b[0m \u001b[0mrange\u001b[0m\u001b[0;34m(\u001b[0m\u001b[0mlen\u001b[0m\u001b[0;34m(\u001b[0m\u001b[0msolutions\u001b[0m\u001b[0;34m[\u001b[0m\u001b[0mmodel\u001b[0m\u001b[0;34m]\u001b[0m\u001b[0;34m)\u001b[0m\u001b[0;34m)\u001b[0m\u001b[0;34m:\u001b[0m\u001b[0;34m\u001b[0m\u001b[0m\n\u001b[1;32m      5\u001b[0m         \u001b[0;31m#Load data\u001b[0m\u001b[0;34m\u001b[0m\u001b[0;34m\u001b[0m\u001b[0m\n",
      "\u001b[0;31mNameError\u001b[0m: name 'Models' is not defined"
     ]
    }
   ],
   "source": [
    "#Estimate parameters of baseline simulated data - imaginary part\n",
    "for model in range(len(Models)):\n",
    "    #For each parameter\n",
    "    for p in range(len(solutions[model])):\n",
    "        #Load data\n",
    "        data = Models[model].load(sim[2+p],sim[1])\n",
    "        data2 = Models[model].load(sim[0],sim[1])\n",
    "        A = np.matrix([[1]+[data.getFeaturesBySweep(i,0,1)[j] for j in varImag[model][p]] for i in range(data.size)])\n",
    "        estimate = np.array(np.dot(A,solutions[model][p]).tolist()[0])\n",
    "        avgs = {}\n",
    "        for i in list(set(data2.getAllY())):\n",
    "            avgs[i] = [0.0,0.0] #Average value, average relative error\n",
    "        for i in range(data.size):\n",
    "            actual = float(data.getAllY()[i])\n",
    "            avgs[data2.getAllY()[i]][0] += estimate[i]\n",
    "            avgs[data2.getAllY()[i]][1] += abs((actual-estimate[i])/actual)\n",
    "        for i in avgs:\n",
    "            avgs[i][0] /= 10.0\n",
    "            avgs[i][1] /= 10.0\n",
    "        print avgs"
   ]
  },
  {
   "cell_type": "code",
   "execution_count": 11,
   "metadata": {},
   "outputs": [
    {
     "ename": "NameError",
     "evalue": "name 'Models' is not defined",
     "output_type": "error",
     "traceback": [
      "\u001b[0;31m\u001b[0m",
      "\u001b[0;31mNameError\u001b[0mTraceback (most recent call last)",
      "\u001b[0;32m<ipython-input-11-74242e1e8e77>\u001b[0m in \u001b[0;36m<module>\u001b[0;34m()\u001b[0m\n\u001b[1;32m      1\u001b[0m \u001b[0;31m#Estimate parameters of experimental cancer data - imaginary part\u001b[0m\u001b[0;34m\u001b[0m\u001b[0;34m\u001b[0m\u001b[0m\n\u001b[0;32m----> 2\u001b[0;31m \u001b[0;32mfor\u001b[0m \u001b[0mmodel\u001b[0m \u001b[0;32min\u001b[0m \u001b[0mrange\u001b[0m\u001b[0;34m(\u001b[0m\u001b[0mlen\u001b[0m\u001b[0;34m(\u001b[0m\u001b[0mModels\u001b[0m\u001b[0;34m)\u001b[0m\u001b[0;34m)\u001b[0m\u001b[0;34m:\u001b[0m\u001b[0;34m\u001b[0m\u001b[0m\n\u001b[0m\u001b[1;32m      3\u001b[0m     \u001b[0;31m#For each parameter\u001b[0m\u001b[0;34m\u001b[0m\u001b[0;34m\u001b[0m\u001b[0m\n\u001b[1;32m      4\u001b[0m     \u001b[0;32mfor\u001b[0m \u001b[0mp\u001b[0m \u001b[0;32min\u001b[0m \u001b[0mrange\u001b[0m\u001b[0;34m(\u001b[0m\u001b[0mlen\u001b[0m\u001b[0;34m(\u001b[0m\u001b[0msolutions\u001b[0m\u001b[0;34m[\u001b[0m\u001b[0mmodel\u001b[0m\u001b[0;34m]\u001b[0m\u001b[0;34m)\u001b[0m\u001b[0;34m)\u001b[0m\u001b[0;34m:\u001b[0m\u001b[0;34m\u001b[0m\u001b[0m\n\u001b[1;32m      5\u001b[0m         \u001b[0;31m#Load data\u001b[0m\u001b[0;34m\u001b[0m\u001b[0;34m\u001b[0m\u001b[0m\n",
      "\u001b[0;31mNameError\u001b[0m: name 'Models' is not defined"
     ]
    }
   ],
   "source": [
    "#Estimate parameters of experimental cancer data - imaginary part\n",
    "for model in range(len(Models)):\n",
    "    #For each parameter\n",
    "    for p in range(len(solutions[model])):\n",
    "        #Load data\n",
    "        data = Models[model].load(cancer[0],cancer[1])\n",
    "        A = np.matrix([[1]+[data.getFeaturesBySweep(i,0,1)[j] for j in varImag[model][p]] for i in range(data.size)])\n",
    "        estimate = np.array(np.dot(A,solutions[model][p]).tolist()[0])\n",
    "        avgs = {}\n",
    "        for i in list(set(data.getAllY())):\n",
    "            avgs[i] = [0.0,0] #Average value, count\n",
    "        for i in range(data.size):\n",
    "            avgs[data.getAllY()[i]][0] += estimate[i]\n",
    "            avgs[data.getAllY()[i]][1] += 1\n",
    "        for i in avgs:\n",
    "            avgs[i][0] /= avgs[i][1]\n",
    "        print avgs"
   ]
  },
  {
   "cell_type": "code",
   "execution_count": null,
   "metadata": {
    "collapsed": true
   },
   "outputs": [],
   "source": []
  }
 ],
 "metadata": {
  "kernelspec": {
   "display_name": "Python 2",
   "language": "python2",
   "name": "python2"
  },
  "language_info": {
   "codemirror_mode": {
    "name": "ipython",
    "version": 2
   },
   "file_extension": ".py",
   "mimetype": "text/x-python",
   "name": "python",
   "nbconvert_exporter": "python",
   "pygments_lexer": "ipython2",
   "version": "2.7.14"
  }
 },
 "nbformat": 4,
 "nbformat_minor": 2
}
